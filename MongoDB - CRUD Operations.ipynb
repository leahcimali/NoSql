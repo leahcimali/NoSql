{
 "cells": [
  {
   "cell_type": "markdown",
   "metadata": {},
   "source": [
    "# MongoDB - CRUD Operations"
   ]
  },
  {
   "cell_type": "markdown",
   "metadata": {},
   "source": [
    "## Install pymongo - Do it only once "
   ]
  },
  {
   "cell_type": "code",
   "execution_count": 1,
   "metadata": {},
   "outputs": [
    {
     "name": "stdout",
     "output_type": "stream",
     "text": [
      "Collecting pymongo\n",
      "  Downloading pymongo-3.12.1-cp37-cp37m-manylinux2014_x86_64.whl (527 kB)\n",
      "\u001b[K     |████████████████████████████████| 527 kB 1.7 MB/s eta 0:00:01\n",
      "\u001b[?25hInstalling collected packages: pymongo\n",
      "Successfully installed pymongo-3.12.1\n"
     ]
    }
   ],
   "source": [
    "!pip install pymongo\n"
   ]
  },
  {
   "cell_type": "markdown",
   "metadata": {},
   "source": [
    "## Connect to MongoDB "
   ]
  },
  {
   "cell_type": "code",
   "execution_count": 9,
   "metadata": {},
   "outputs": [],
   "source": [
    "import pymongo\n",
    "from pymongo import MongoClient \n",
    "from pprint import pprint\n",
    "myclient = MongoClient('localhost', 27017)"
   ]
  },
  {
   "cell_type": "code",
   "execution_count": 10,
   "metadata": {},
   "outputs": [
    {
     "data": {
      "text/plain": [
       "['admin', 'config', 'horizon', 'horizondb2', 'local', 'test']"
      ]
     },
     "execution_count": 10,
     "metadata": {},
     "output_type": "execute_result"
    }
   ],
   "source": [
    "myclient.list_database_names()"
   ]
  },
  {
   "cell_type": "markdown",
   "metadata": {},
   "source": [
    "## Create DB, Collection"
   ]
  },
  {
   "cell_type": "code",
   "execution_count": 11,
   "metadata": {},
   "outputs": [
    {
     "name": "stdout",
     "output_type": "stream",
     "text": [
      "List of all your systems's databases: ['admin', 'config', 'horizon', 'horizondb2', 'local', 'test']\n",
      "List of collections in horizon database: ['customers']\n"
     ]
    }
   ],
   "source": [
    "horizondb = myclient['horizon']\n",
    "# Return a list of all your databases:\n",
    "print('List of all your systems\\'s databases:' , myclient.list_database_names())\n",
    "customerscol = horizondb[\"customers\"]\n",
    "# Return a list of all collections in your database:\n",
    "print('List of collections in horizon database:', horizondb.list_collection_names())"
   ]
  },
  {
   "cell_type": "markdown",
   "metadata": {},
   "source": [
    "## Insert"
   ]
  },
  {
   "cell_type": "code",
   "execution_count": 12,
   "metadata": {},
   "outputs": [],
   "source": [
    "mydict = { \"name\": \"John\", \"address\": \"Highway 37\" }\n",
    "adoc = customerscol.insert_one(mydict)\n",
    "mydict = { \"name\": \"Peter\", \"address\": \"Lowstreet 27\" }\n",
    "adoc = customerscol.insert_one(mydict)"
   ]
  },
  {
   "cell_type": "code",
   "execution_count": 13,
   "metadata": {},
   "outputs": [],
   "source": [
    "mylist = [\n",
    "  { \"name\": \"Amy\", \"address\": \"Apple st 652\"},\n",
    "  { \"name\": \"Hannah\", \"address\": \"Mountain 21\"},\n",
    "  { \"name\": \"Michael\", \"address\": \"Valley 345\"},\n",
    "  { \"name\": \"Sandy\", \"address\": \"Ocean blvd 2\"},\n",
    "  { \"name\": \"Betty\", \"address\": \"Green Grass 1\"},\n",
    "  { \"name\": \"Richard\", \"address\": \"Sky st 331\"},\n",
    "  { \"name\": \"Susan\", \"address\": \"One way 98\"},\n",
    "  { \"name\": \"Vicky\", \"address\": \"Yellow Garden 2\"},\n",
    "  { \"name\": \"Ben\", \"address\": \"Park Lane 38\"},\n",
    "  { \"name\": \"William\", \"address\": \"Central st 954\"},\n",
    "  { \"name\": \"Chuck\", \"address\": \"Main Road 989\"},\n",
    "  { \"name\": \"Viola\", \"address\": \"Sideway 1633\"}\n",
    "]\n",
    "adoc = customerscol.insert_many(mylist)"
   ]
  },
  {
   "cell_type": "code",
   "execution_count": 14,
   "metadata": {},
   "outputs": [
    {
     "name": "stdout",
     "output_type": "stream",
     "text": [
      "List of all your systems's databases: ['admin', 'config', 'horizon', 'horizondb2', 'local', 'test']\n",
      "List of collections in horizon database: ['customers']\n"
     ]
    }
   ],
   "source": [
    "print('List of all your systems\\'s databases:' , myclient.list_database_names())\n",
    "print('List of collections in horizon database:', horizondb.list_collection_names())\n"
   ]
  },
  {
   "cell_type": "markdown",
   "metadata": {},
   "source": [
    "## Find"
   ]
  },
  {
   "cell_type": "code",
   "execution_count": 15,
   "metadata": {},
   "outputs": [
    {
     "name": "stdout",
     "output_type": "stream",
     "text": [
      "{'_id': ObjectId('61a273e855e38a3617354e74'),\n",
      " 'address': 'Apple st 652',\n",
      " 'name': 'Amy'}\n"
     ]
    }
   ],
   "source": [
    "# Finf one \n",
    "adoc = customerscol.find_one()\n",
    "pprint(adoc)"
   ]
  },
  {
   "cell_type": "code",
   "execution_count": 16,
   "metadata": {},
   "outputs": [
    {
     "name": "stdout",
     "output_type": "stream",
     "text": [
      "{'_id': ObjectId('61a273e855e38a3617354e74'),\n",
      " 'address': 'Apple st 652',\n",
      " 'name': 'Amy'}\n",
      "{'_id': ObjectId('61a273e855e38a3617354e75'),\n",
      " 'address': 'Mountain 21',\n",
      " 'name': 'Hannah'}\n",
      "{'_id': ObjectId('61a273e855e38a3617354e76'),\n",
      " 'address': 'Canyon 123',\n",
      " 'name': 'Michael'}\n",
      "{'_id': ObjectId('61a273e855e38a3617354e77'),\n",
      " 'address': 'Ocean blvd 2',\n",
      " 'name': 'Sandy'}\n",
      "{'_id': ObjectId('61a273e855e38a3617354e78'),\n",
      " 'address': 'Green Grass 1',\n",
      " 'name': 'Betty'}\n",
      "{'_id': ObjectId('61a273e855e38a3617354e79'),\n",
      " 'address': 'Sky st 331',\n",
      " 'name': 'Minnie'}\n",
      "{'_id': ObjectId('61a273e855e38a3617354e7a'),\n",
      " 'address': 'One way 98',\n",
      " 'name': 'Susan'}\n",
      "{'_id': ObjectId('61a273e855e38a3617354e7b'),\n",
      " 'address': 'Yellow Garden 2',\n",
      " 'name': 'Vicky'}\n",
      "{'_id': ObjectId('61a273e855e38a3617354e7c'),\n",
      " 'address': 'Park Lane 38',\n",
      " 'name': 'Ben'}\n",
      "{'_id': ObjectId('61a273e855e38a3617354e7d'),\n",
      " 'address': 'Central st 954',\n",
      " 'name': 'William'}\n",
      "{'_id': ObjectId('61a273e855e38a3617354e7e'),\n",
      " 'address': 'Main Road 989',\n",
      " 'name': 'Chuck'}\n",
      "{'_id': ObjectId('61a273e855e38a3617354e7f'),\n",
      " 'address': 'Sideway 1633',\n",
      " 'name': 'Minnie'}\n",
      "{'_id': ObjectId('61b421c63e964790d30a7c4b'),\n",
      " 'address': 'Highway 37',\n",
      " 'name': 'John'}\n",
      "{'_id': ObjectId('61b421c63e964790d30a7c4c'),\n",
      " 'address': 'Lowstreet 27',\n",
      " 'name': 'Peter'}\n",
      "{'_id': ObjectId('61b421c73e964790d30a7c4d'),\n",
      " 'address': 'Apple st 652',\n",
      " 'name': 'Amy'}\n",
      "{'_id': ObjectId('61b421c73e964790d30a7c4e'),\n",
      " 'address': 'Mountain 21',\n",
      " 'name': 'Hannah'}\n",
      "{'_id': ObjectId('61b421c73e964790d30a7c4f'),\n",
      " 'address': 'Valley 345',\n",
      " 'name': 'Michael'}\n",
      "{'_id': ObjectId('61b421c73e964790d30a7c50'),\n",
      " 'address': 'Ocean blvd 2',\n",
      " 'name': 'Sandy'}\n",
      "{'_id': ObjectId('61b421c73e964790d30a7c51'),\n",
      " 'address': 'Green Grass 1',\n",
      " 'name': 'Betty'}\n",
      "{'_id': ObjectId('61b421c73e964790d30a7c52'),\n",
      " 'address': 'Sky st 331',\n",
      " 'name': 'Richard'}\n",
      "{'_id': ObjectId('61b421c73e964790d30a7c53'),\n",
      " 'address': 'One way 98',\n",
      " 'name': 'Susan'}\n",
      "{'_id': ObjectId('61b421c73e964790d30a7c54'),\n",
      " 'address': 'Yellow Garden 2',\n",
      " 'name': 'Vicky'}\n",
      "{'_id': ObjectId('61b421c73e964790d30a7c55'),\n",
      " 'address': 'Park Lane 38',\n",
      " 'name': 'Ben'}\n",
      "{'_id': ObjectId('61b421c73e964790d30a7c56'),\n",
      " 'address': 'Central st 954',\n",
      " 'name': 'William'}\n",
      "{'_id': ObjectId('61b421c73e964790d30a7c57'),\n",
      " 'address': 'Main Road 989',\n",
      " 'name': 'Chuck'}\n",
      "{'_id': ObjectId('61b421c73e964790d30a7c58'),\n",
      " 'address': 'Sideway 1633',\n",
      " 'name': 'Viola'}\n"
     ]
    }
   ],
   "source": [
    "# Find All\n",
    "docs =  customerscol.find()\n",
    "for adoc in docs:\n",
    "    pprint(adoc)"
   ]
  },
  {
   "cell_type": "code",
   "execution_count": 45,
   "metadata": {},
   "outputs": [
    {
     "name": "stdout",
     "output_type": "stream",
     "text": [
      "{'_id': ObjectId('61b421d43e964790d30a7c5e'),\n",
      " 'address': 'Sky st 331',\n",
      " 'name': 'Minnie'}\n",
      "{'_id': ObjectId('61b421d43e964790d30a7c5f'),\n",
      " 'address': 'One way 98',\n",
      " 'name': 'Susan'}\n",
      "{'_id': ObjectId('61b421d43e964790d30a7c60'),\n",
      " 'address': 'Yellow Garden 2',\n",
      " 'name': 'Vicky'}\n",
      "{'_id': ObjectId('61b421d43e964790d30a7c61'),\n",
      " 'address': 'Park Lane 38',\n",
      " 'name': 'Ben'}\n",
      "{'_id': ObjectId('61b421d43e964790d30a7c62'),\n",
      " 'address': 'Central st 954',\n",
      " 'name': 'William'}\n",
      "{'_id': ObjectId('61b421d43e964790d30a7c63'),\n",
      " 'address': 'Main Road 989',\n",
      " 'name': 'Chuck'}\n",
      "{'_id': ObjectId('61b421d43e964790d30a7c64'),\n",
      " 'address': 'Sideway 1633',\n",
      " 'name': 'Minnie'}\n"
     ]
    }
   ],
   "source": [
    "# Limit the result to only return 5 documents:\n",
    "docs = customerscol.find().skip(5).limit(10)\n",
    "\n",
    "for adoc in docs:\n",
    "    pprint(adoc)"
   ]
  },
  {
   "cell_type": "code",
   "execution_count": 8,
   "metadata": {},
   "outputs": [
    {
     "ename": "NameError",
     "evalue": "name 'customerscol' is not defined",
     "output_type": "error",
     "traceback": [
      "\u001b[0;31m---------------------------------------------------------------------------\u001b[0m",
      "\u001b[0;31mNameError\u001b[0m                                 Traceback (most recent call last)",
      "\u001b[0;32m<ipython-input-8-d9316ab3844a>\u001b[0m in \u001b[0;36m<module>\u001b[0;34m\u001b[0m\n\u001b[1;32m      1\u001b[0m \u001b[0;31m# Return Only Some Fields\u001b[0m\u001b[0;34m\u001b[0m\u001b[0;34m\u001b[0m\u001b[0;34m\u001b[0m\u001b[0m\n\u001b[0;32m----> 2\u001b[0;31m \u001b[0mdocs\u001b[0m \u001b[0;34m=\u001b[0m \u001b[0mcustomerscol\u001b[0m\u001b[0;34m.\u001b[0m\u001b[0mfind\u001b[0m\u001b[0;34m(\u001b[0m\u001b[0;34m{\u001b[0m\u001b[0;34m}\u001b[0m\u001b[0;34m,\u001b[0m\u001b[0;34m{\u001b[0m \u001b[0;34m\"_id\"\u001b[0m\u001b[0;34m:\u001b[0m \u001b[0;36m0\u001b[0m\u001b[0;34m,\u001b[0m \u001b[0;34m\"name\"\u001b[0m\u001b[0;34m:\u001b[0m \u001b[0;36m1\u001b[0m\u001b[0;34m,\u001b[0m \u001b[0;34m\"address\"\u001b[0m\u001b[0;34m:\u001b[0m \u001b[0;36m1\u001b[0m \u001b[0;34m}\u001b[0m\u001b[0;34m)\u001b[0m\u001b[0;34m\u001b[0m\u001b[0;34m\u001b[0m\u001b[0m\n\u001b[0m\u001b[1;32m      3\u001b[0m \u001b[0;32mfor\u001b[0m \u001b[0madoc\u001b[0m \u001b[0;32min\u001b[0m \u001b[0mdocs\u001b[0m\u001b[0;34m:\u001b[0m\u001b[0;34m\u001b[0m\u001b[0;34m\u001b[0m\u001b[0m\n\u001b[1;32m      4\u001b[0m     \u001b[0mpprint\u001b[0m\u001b[0;34m(\u001b[0m\u001b[0madoc\u001b[0m\u001b[0;34m)\u001b[0m\u001b[0;34m\u001b[0m\u001b[0;34m\u001b[0m\u001b[0m\n",
      "\u001b[0;31mNameError\u001b[0m: name 'customerscol' is not defined"
     ]
    }
   ],
   "source": [
    "# Return Only Some Fields\n",
    "docs = customerscol.find({},{ \"_id\": 0, \"name\": 1, \"address\": 1 })\n",
    "for adoc in docs:\n",
    "    pprint(adoc)"
   ]
  },
  {
   "cell_type": "code",
   "execution_count": 17,
   "metadata": {},
   "outputs": [
    {
     "name": "stdout",
     "output_type": "stream",
     "text": [
      "{'_id': ObjectId('61a273e855e38a3617354e74'), 'name': 'Amy'}\n",
      "{'_id': ObjectId('61a273e855e38a3617354e75'), 'name': 'Hannah'}\n",
      "{'_id': ObjectId('61a273e855e38a3617354e76'), 'name': 'Michael'}\n",
      "{'_id': ObjectId('61a273e855e38a3617354e77'), 'name': 'Sandy'}\n",
      "{'_id': ObjectId('61a273e855e38a3617354e78'), 'name': 'Betty'}\n",
      "{'_id': ObjectId('61a273e855e38a3617354e79'), 'name': 'Minnie'}\n",
      "{'_id': ObjectId('61a273e855e38a3617354e7a'), 'name': 'Susan'}\n",
      "{'_id': ObjectId('61a273e855e38a3617354e7b'), 'name': 'Vicky'}\n",
      "{'_id': ObjectId('61a273e855e38a3617354e7c'), 'name': 'Ben'}\n",
      "{'_id': ObjectId('61a273e855e38a3617354e7d'), 'name': 'William'}\n",
      "{'_id': ObjectId('61a273e855e38a3617354e7e'), 'name': 'Chuck'}\n",
      "{'_id': ObjectId('61a273e855e38a3617354e7f'), 'name': 'Minnie'}\n",
      "{'_id': ObjectId('61b421c63e964790d30a7c4b'), 'name': 'John'}\n",
      "{'_id': ObjectId('61b421c63e964790d30a7c4c'), 'name': 'Peter'}\n",
      "{'_id': ObjectId('61b421c73e964790d30a7c4d'), 'name': 'Amy'}\n",
      "{'_id': ObjectId('61b421c73e964790d30a7c4e'), 'name': 'Hannah'}\n",
      "{'_id': ObjectId('61b421c73e964790d30a7c4f'), 'name': 'Michael'}\n",
      "{'_id': ObjectId('61b421c73e964790d30a7c50'), 'name': 'Sandy'}\n",
      "{'_id': ObjectId('61b421c73e964790d30a7c51'), 'name': 'Betty'}\n",
      "{'_id': ObjectId('61b421c73e964790d30a7c52'), 'name': 'Richard'}\n",
      "{'_id': ObjectId('61b421c73e964790d30a7c53'), 'name': 'Susan'}\n",
      "{'_id': ObjectId('61b421c73e964790d30a7c54'), 'name': 'Vicky'}\n",
      "{'_id': ObjectId('61b421c73e964790d30a7c55'), 'name': 'Ben'}\n",
      "{'_id': ObjectId('61b421c73e964790d30a7c56'), 'name': 'William'}\n",
      "{'_id': ObjectId('61b421c73e964790d30a7c57'), 'name': 'Chuck'}\n",
      "{'_id': ObjectId('61b421c73e964790d30a7c58'), 'name': 'Viola'}\n"
     ]
    }
   ],
   "source": [
    "# This example will exclude \"address\" from the result:\n",
    "docs = customerscol.find({},{ \"address\": 0 })\n",
    "for adoc in docs:\n",
    "    pprint(adoc)"
   ]
  },
  {
   "cell_type": "code",
   "execution_count": 16,
   "metadata": {},
   "outputs": [],
   "source": [
    "# Find document(s) with the address \"Park Lane 1\":\n",
    "myquery = { \"address\": \"Park Lane 1\" }\n",
    "docs = customerscol.find(myquery)\n",
    "for adoc in docs:\n",
    "    pprint(adoc)"
   ]
  },
  {
   "cell_type": "code",
   "execution_count": 17,
   "metadata": {},
   "outputs": [
    {
     "name": "stdout",
     "output_type": "stream",
     "text": [
      "{'_id': ObjectId('61a2707c55e38a3617354e66'),\n",
      " 'address': 'Highway 37',\n",
      " 'name': 'John'}\n"
     ]
    }
   ],
   "source": [
    "# Find document(s) with the address Highway 37\n",
    "myquery = { \"address\": \"Highway 37\" }\n",
    "docs = customerscol.find(myquery)\n",
    "for adoc in docs:\n",
    "    pprint(adoc)"
   ]
  },
  {
   "cell_type": "code",
   "execution_count": 18,
   "metadata": {},
   "outputs": [
    {
     "name": "stdout",
     "output_type": "stream",
     "text": [
      "{'_id': ObjectId('61a273e855e38a3617354e79'),\n",
      " 'address': 'Sky st 331',\n",
      " 'name': 'Minnie'}\n",
      "{'_id': ObjectId('61a273e855e38a3617354e7b'),\n",
      " 'address': 'Yellow Garden 2',\n",
      " 'name': 'Vicky'}\n",
      "{'_id': ObjectId('61a273e855e38a3617354e7f'),\n",
      " 'address': 'Sideway 1633',\n",
      " 'name': 'Minnie'}\n",
      "{'_id': ObjectId('61b421c73e964790d30a7c4f'),\n",
      " 'address': 'Valley 345',\n",
      " 'name': 'Michael'}\n",
      "{'_id': ObjectId('61b421c73e964790d30a7c52'),\n",
      " 'address': 'Sky st 331',\n",
      " 'name': 'Richard'}\n",
      "{'_id': ObjectId('61b421c73e964790d30a7c54'),\n",
      " 'address': 'Yellow Garden 2',\n",
      " 'name': 'Vicky'}\n",
      "{'_id': ObjectId('61b421c73e964790d30a7c58'),\n",
      " 'address': 'Sideway 1633',\n",
      " 'name': 'Viola'}\n"
     ]
    }
   ],
   "source": [
    "# Advanced Query\n",
    "# Find documents where the address starts with the letter \"S\" or higher:\n",
    "myquery = { \"address\": { \"$gt\": \"S\" } }\n",
    "docs = customerscol.find(myquery)\n",
    "for adoc in docs:\n",
    "    pprint(adoc)"
   ]
  },
  {
   "cell_type": "code",
   "execution_count": 19,
   "metadata": {},
   "outputs": [
    {
     "name": "stdout",
     "output_type": "stream",
     "text": [
      "{'_id': ObjectId('61a273e855e38a3617354e79'),\n",
      " 'address': 'Sky st 331',\n",
      " 'name': 'Minnie'}\n",
      "{'_id': ObjectId('61a273e855e38a3617354e7f'),\n",
      " 'address': 'Sideway 1633',\n",
      " 'name': 'Minnie'}\n",
      "{'_id': ObjectId('61b421c73e964790d30a7c52'),\n",
      " 'address': 'Sky st 331',\n",
      " 'name': 'Richard'}\n",
      "{'_id': ObjectId('61b421c73e964790d30a7c58'),\n",
      " 'address': 'Sideway 1633',\n",
      " 'name': 'Viola'}\n"
     ]
    }
   ],
   "source": [
    "# Filter With Regular Expressions\n",
    "# Find documents where the address starts with the letter \"S\":\n",
    "myquery = { \"address\": { \"$regex\": \"^S\" } }\n",
    "docs = customerscol.find(myquery)\n",
    "for adoc in docs:\n",
    "    pprint(adoc)"
   ]
  },
  {
   "cell_type": "markdown",
   "metadata": {},
   "source": [
    "## Delete  "
   ]
  },
  {
   "cell_type": "code",
   "execution_count": 20,
   "metadata": {},
   "outputs": [
    {
     "name": "stdout",
     "output_type": "stream",
     "text": [
      "{'_id': ObjectId('61a273e855e38a3617354e75'),\n",
      " 'address': 'Mountain 21',\n",
      " 'name': 'Hannah'}\n",
      "{'_id': ObjectId('61b421c73e964790d30a7c4e'),\n",
      " 'address': 'Mountain 21',\n",
      " 'name': 'Hannah'}\n"
     ]
    }
   ],
   "source": [
    "# Check if you have documents wiht address \"Mountain 21\":\n",
    "myquery = { \"address\": \"Mountain 21\" }\n",
    "docs = customerscol.find(myquery)\n",
    "for adoc in docs:\n",
    "    pprint(adoc)"
   ]
  },
  {
   "cell_type": "code",
   "execution_count": 21,
   "metadata": {},
   "outputs": [
    {
     "data": {
      "text/plain": [
       "<pymongo.results.DeleteResult at 0x7f3d8c53ad20>"
      ]
     },
     "execution_count": 21,
     "metadata": {},
     "output_type": "execute_result"
    }
   ],
   "source": [
    "# Delete the document with the address \"Mountain 21\":\n",
    "myquery = { \"address\": \"Mountain 21\" }\n",
    "customerscol.delete_one(myquery)"
   ]
  },
  {
   "cell_type": "code",
   "execution_count": 22,
   "metadata": {},
   "outputs": [
    {
     "name": "stdout",
     "output_type": "stream",
     "text": [
      "{'_id': ObjectId('61b421c73e964790d30a7c4e'),\n",
      " 'address': 'Mountain 21',\n",
      " 'name': 'Hannah'}\n"
     ]
    }
   ],
   "source": [
    "# Check again if you have documents wiht address \"Mountain 21\":\n",
    "myquery = { \"address\": \"Mountain 21\" }\n",
    "docs = customerscol.find(myquery)\n",
    "for adoc in docs:\n",
    "    pprint(adoc)"
   ]
  },
  {
   "cell_type": "code",
   "execution_count": 23,
   "metadata": {
    "scrolled": true
   },
   "outputs": [
    {
     "name": "stdout",
     "output_type": "stream",
     "text": [
      "{'_id': ObjectId('61a273e855e38a3617354e79'),\n",
      " 'address': 'Sky st 331',\n",
      " 'name': 'Minnie'}\n",
      "{'_id': ObjectId('61a273e855e38a3617354e7f'),\n",
      " 'address': 'Sideway 1633',\n",
      " 'name': 'Minnie'}\n",
      "{'_id': ObjectId('61b421c73e964790d30a7c52'),\n",
      " 'address': 'Sky st 331',\n",
      " 'name': 'Richard'}\n",
      "{'_id': ObjectId('61b421c73e964790d30a7c58'),\n",
      " 'address': 'Sideway 1633',\n",
      " 'name': 'Viola'}\n"
     ]
    }
   ],
   "source": [
    "# Check if you have documents were the address starts with the letter S:\n",
    "myquery = { \"address\": {\"$regex\": \"^S\"} }\n",
    "docs = customerscol.find(myquery)\n",
    "for adoc in docs:\n",
    "    pprint(adoc)"
   ]
  },
  {
   "cell_type": "code",
   "execution_count": 24,
   "metadata": {},
   "outputs": [
    {
     "name": "stdout",
     "output_type": "stream",
     "text": [
      "4 documents deleted.\n"
     ]
    }
   ],
   "source": [
    "# Delete Many Documents\n",
    "# Delete all documents were the address starts with the letter S:\n",
    "x = customerscol.delete_many(myquery)\n",
    "print(x.deleted_count, \"documents deleted.\")"
   ]
  },
  {
   "cell_type": "code",
   "execution_count": 25,
   "metadata": {
    "scrolled": true
   },
   "outputs": [],
   "source": [
    "# Check again if you have documents were the address starts with the letter S:\n",
    "myquery = { \"address\": {\"$regex\": \"^S\"} }\n",
    "docs = customerscol.find(myquery)\n",
    "for adoc in docs:\n",
    "    pprint(adoc)"
   ]
  },
  {
   "cell_type": "code",
   "execution_count": 26,
   "metadata": {},
   "outputs": [
    {
     "name": "stdout",
     "output_type": "stream",
     "text": [
      "21 documents deleted.\n"
     ]
    }
   ],
   "source": [
    "# Delete All Documents in a Collection\n",
    "x = customerscol.delete_many({})\n",
    "print(x.deleted_count, \"documents deleted.\")"
   ]
  },
  {
   "cell_type": "code",
   "execution_count": 27,
   "metadata": {},
   "outputs": [],
   "source": [
    "# Delete Collection\n",
    "customerscol.drop()"
   ]
  },
  {
   "cell_type": "markdown",
   "metadata": {},
   "source": [
    "## Update"
   ]
  },
  {
   "cell_type": "code",
   "execution_count": 28,
   "metadata": {},
   "outputs": [],
   "source": [
    "customerscol = horizondb[\"customers\"]\n",
    "mylist = [\n",
    "  { \"name\": \"Amy\", \"address\": \"Apple st 652\"},\n",
    "  { \"name\": \"Hannah\", \"address\": \"Mountain 21\"},\n",
    "  { \"name\": \"Michael\", \"address\": \"Valley 345\"},\n",
    "  { \"name\": \"Sandy\", \"address\": \"Ocean blvd 2\"},\n",
    "  { \"name\": \"Betty\", \"address\": \"Green Grass 1\"},\n",
    "  { \"name\": \"Richard\", \"address\": \"Sky st 331\"},\n",
    "  { \"name\": \"Susan\", \"address\": \"One way 98\"},\n",
    "  { \"name\": \"Vicky\", \"address\": \"Yellow Garden 2\"},\n",
    "  { \"name\": \"Ben\", \"address\": \"Park Lane 38\"},\n",
    "  { \"name\": \"William\", \"address\": \"Central st 954\"},\n",
    "  { \"name\": \"Chuck\", \"address\": \"Main Road 989\"},\n",
    "  { \"name\": \"Viola\", \"address\": \"Sideway 1633\"}\n",
    "]\n",
    "adoc = customerscol.insert_many(mylist)"
   ]
  },
  {
   "cell_type": "code",
   "execution_count": 29,
   "metadata": {},
   "outputs": [
    {
     "name": "stdout",
     "output_type": "stream",
     "text": [
      "{'_id': ObjectId('61b421d43e964790d30a7c5b'), 'name': 'Michael', 'address': 'Valley 345'}\n",
      "61b421d43e964790d30a7c5b\n"
     ]
    }
   ],
   "source": [
    "myquery = { \"address\": \"Valley 345\" }\n",
    "adoc = customerscol.find_one(myquery)\n",
    "print(adoc)\n",
    "id = adoc['_id']\n",
    "print(id)"
   ]
  },
  {
   "cell_type": "code",
   "execution_count": 30,
   "metadata": {},
   "outputs": [
    {
     "data": {
      "text/plain": [
       "<pymongo.results.UpdateResult at 0x7f3d8c4fb9b0>"
      ]
     },
     "execution_count": 30,
     "metadata": {},
     "output_type": "execute_result"
    }
   ],
   "source": [
    "# Change the address from \"Valley 345\" to \"Canyon 123\":=\n",
    "newvalues = { \"$set\": { \"address\": \"Canyon 123\" } }\n",
    "customerscol.update_one(myquery, newvalues)"
   ]
  },
  {
   "cell_type": "code",
   "execution_count": 31,
   "metadata": {},
   "outputs": [
    {
     "name": "stdout",
     "output_type": "stream",
     "text": [
      "{'_id': ObjectId('61b421d43e964790d30a7c5b'),\n",
      " 'address': 'Canyon 123',\n",
      " 'name': 'Michael'}\n"
     ]
    }
   ],
   "source": [
    "myquery = { \"_id\": id }\n",
    "adoc = customerscol.find_one(myquery)\n",
    "pprint(adoc)"
   ]
  },
  {
   "cell_type": "code",
   "execution_count": 32,
   "metadata": {},
   "outputs": [
    {
     "name": "stdout",
     "output_type": "stream",
     "text": [
      "{'_id': ObjectId('61b421d43e964790d30a7c5e'),\n",
      " 'address': 'Sky st 331',\n",
      " 'name': 'Richard'}\n",
      "{'_id': ObjectId('61b421d43e964790d30a7c64'),\n",
      " 'address': 'Sideway 1633',\n",
      " 'name': 'Viola'}\n",
      "2 documents updated.\n",
      "{'_id': ObjectId('61b421d43e964790d30a7c5e'),\n",
      " 'address': 'Sky st 331',\n",
      " 'name': 'Minnie'}\n",
      "{'_id': ObjectId('61b421d43e964790d30a7c64'),\n",
      " 'address': 'Sideway 1633',\n",
      " 'name': 'Minnie'}\n"
     ]
    }
   ],
   "source": [
    "# Update Many\n",
    "# Update all documents where the address starts with the letter \"S\":\n",
    "myquery = { \"address\": { \"$regex\": \"^S\" } }\n",
    "newvalues = { \"$set\": { \"name\": \"Minnie\" } }\n",
    "docs = customerscol.find(myquery)\n",
    "for doc in docs: \n",
    "    pprint(doc)\n",
    "x = customerscol.update_many(myquery, newvalues)\n",
    "print(x.modified_count, \"documents updated.\")\n",
    "docs = customerscol.find(myquery)\n",
    "for doc in docs: \n",
    "    pprint(doc)"
   ]
  },
  {
   "cell_type": "markdown",
   "metadata": {},
   "source": [
    "## Sort"
   ]
  },
  {
   "cell_type": "code",
   "execution_count": 33,
   "metadata": {},
   "outputs": [
    {
     "name": "stdout",
     "output_type": "stream",
     "text": [
      "{'_id': ObjectId('61b421d43e964790d30a7c59'), 'name': 'Amy', 'address': 'Apple st 652'}\n",
      "{'_id': ObjectId('61b421d43e964790d30a7c5a'), 'name': 'Hannah', 'address': 'Mountain 21'}\n",
      "{'_id': ObjectId('61b421d43e964790d30a7c5b'), 'name': 'Michael', 'address': 'Canyon 123'}\n",
      "{'_id': ObjectId('61b421d43e964790d30a7c5c'), 'name': 'Sandy', 'address': 'Ocean blvd 2'}\n",
      "{'_id': ObjectId('61b421d43e964790d30a7c5d'), 'name': 'Betty', 'address': 'Green Grass 1'}\n",
      "{'_id': ObjectId('61b421d43e964790d30a7c5e'), 'name': 'Minnie', 'address': 'Sky st 331'}\n",
      "{'_id': ObjectId('61b421d43e964790d30a7c5f'), 'name': 'Susan', 'address': 'One way 98'}\n",
      "{'_id': ObjectId('61b421d43e964790d30a7c60'), 'name': 'Vicky', 'address': 'Yellow Garden 2'}\n",
      "{'_id': ObjectId('61b421d43e964790d30a7c61'), 'name': 'Ben', 'address': 'Park Lane 38'}\n",
      "{'_id': ObjectId('61b421d43e964790d30a7c62'), 'name': 'William', 'address': 'Central st 954'}\n",
      "{'_id': ObjectId('61b421d43e964790d30a7c63'), 'name': 'Chuck', 'address': 'Main Road 989'}\n",
      "{'_id': ObjectId('61b421d43e964790d30a7c64'), 'name': 'Minnie', 'address': 'Sideway 1633'}\n"
     ]
    }
   ],
   "source": [
    "docs = customerscol.find()\n",
    "for adoc in docs:\n",
    "    print(adoc)"
   ]
  },
  {
   "cell_type": "code",
   "execution_count": 34,
   "metadata": {},
   "outputs": [
    {
     "name": "stdout",
     "output_type": "stream",
     "text": [
      "{'_id': ObjectId('61b421d43e964790d30a7c59'), 'name': 'Amy', 'address': 'Apple st 652'}\n",
      "{'_id': ObjectId('61b421d43e964790d30a7c61'), 'name': 'Ben', 'address': 'Park Lane 38'}\n",
      "{'_id': ObjectId('61b421d43e964790d30a7c5d'), 'name': 'Betty', 'address': 'Green Grass 1'}\n",
      "{'_id': ObjectId('61b421d43e964790d30a7c63'), 'name': 'Chuck', 'address': 'Main Road 989'}\n",
      "{'_id': ObjectId('61b421d43e964790d30a7c5a'), 'name': 'Hannah', 'address': 'Mountain 21'}\n",
      "{'_id': ObjectId('61b421d43e964790d30a7c5b'), 'name': 'Michael', 'address': 'Canyon 123'}\n",
      "{'_id': ObjectId('61b421d43e964790d30a7c5e'), 'name': 'Minnie', 'address': 'Sky st 331'}\n",
      "{'_id': ObjectId('61b421d43e964790d30a7c64'), 'name': 'Minnie', 'address': 'Sideway 1633'}\n",
      "{'_id': ObjectId('61b421d43e964790d30a7c5c'), 'name': 'Sandy', 'address': 'Ocean blvd 2'}\n",
      "{'_id': ObjectId('61b421d43e964790d30a7c5f'), 'name': 'Susan', 'address': 'One way 98'}\n",
      "{'_id': ObjectId('61b421d43e964790d30a7c60'), 'name': 'Vicky', 'address': 'Yellow Garden 2'}\n",
      "{'_id': ObjectId('61b421d43e964790d30a7c62'), 'name': 'William', 'address': 'Central st 954'}\n"
     ]
    }
   ],
   "source": [
    "# Sort the result alphabetically by name:\n",
    "docs = customerscol.find().sort(\"name\")\n",
    "for adoc in docs:\n",
    "    print(adoc)"
   ]
  },
  {
   "cell_type": "code",
   "execution_count": 38,
   "metadata": {},
   "outputs": [
    {
     "name": "stdout",
     "output_type": "stream",
     "text": [
      "{'_id': ObjectId('61a273e855e38a3617354e7d'), 'name': 'William', 'address': 'Central st 954'}\n",
      "{'_id': ObjectId('61a273e855e38a3617354e7b'), 'name': 'Vicky', 'address': 'Yellow Garden 2'}\n",
      "{'_id': ObjectId('61a273e855e38a3617354e7a'), 'name': 'Susan', 'address': 'One way 98'}\n",
      "{'_id': ObjectId('61a273e855e38a3617354e77'), 'name': 'Sandy', 'address': 'Ocean blvd 2'}\n",
      "{'_id': ObjectId('61a273e855e38a3617354e79'), 'name': 'Minnie', 'address': 'Sky st 331'}\n",
      "{'_id': ObjectId('61a273e855e38a3617354e7f'), 'name': 'Minnie', 'address': 'Sideway 1633'}\n",
      "{'_id': ObjectId('61a273e855e38a3617354e76'), 'name': 'Michael', 'address': 'Canyon 123'}\n",
      "{'_id': ObjectId('61a273e855e38a3617354e75'), 'name': 'Hannah', 'address': 'Mountain 21'}\n",
      "{'_id': ObjectId('61a273e855e38a3617354e7e'), 'name': 'Chuck', 'address': 'Main Road 989'}\n",
      "{'_id': ObjectId('61a273e855e38a3617354e78'), 'name': 'Betty', 'address': 'Green Grass 1'}\n",
      "{'_id': ObjectId('61a273e855e38a3617354e7c'), 'name': 'Ben', 'address': 'Park Lane 38'}\n",
      "{'_id': ObjectId('61a273e855e38a3617354e74'), 'name': 'Amy', 'address': 'Apple st 652'}\n"
     ]
    }
   ],
   "source": [
    "# Sort Descending\n",
    "# sort(\"name\", 1) ascending\n",
    "# sort(\"name\", -1) descending\n",
    "\n",
    "docs = customerscol.find().sort(\"name\", -1)\n",
    "for adoc in docs:\n",
    "    print(adoc)"
   ]
  },
  {
   "cell_type": "code",
   "execution_count": 36,
   "metadata": {},
   "outputs": [
    {
     "ename": "NameError",
     "evalue": "name 'customers' is not defined",
     "output_type": "error",
     "traceback": [
      "\u001b[0;31m---------------------------------------------------------------------------\u001b[0m",
      "\u001b[0;31mNameError\u001b[0m                                 Traceback (most recent call last)",
      "\u001b[0;32m<ipython-input-36-06bbbd2d9686>\u001b[0m in \u001b[0;36m<module>\u001b[0;34m\u001b[0m\n\u001b[0;32m----> 1\u001b[0;31m \u001b[0mdocs\u001b[0m \u001b[0;34m=\u001b[0m\u001b[0mcustomers\u001b[0m\u001b[0;34m.\u001b[0m\u001b[0mfind\u001b[0m\u001b[0;34m(\u001b[0m\u001b[0;34m{\u001b[0m\u001b[0;34m}\u001b[0m\u001b[0;34m)\u001b[0m\u001b[0;34m.\u001b[0m\u001b[0mskip\u001b[0m\u001b[0;34m(\u001b[0m\u001b[0;36m5\u001b[0m\u001b[0;34m)\u001b[0m\u001b[0;34m.\u001b[0m\u001b[0mlimit\u001b[0m\u001b[0;34m(\u001b[0m\u001b[0;36m10\u001b[0m\u001b[0;34m)\u001b[0m\u001b[0;34m\u001b[0m\u001b[0;34m\u001b[0m\u001b[0m\n\u001b[0m\u001b[1;32m      2\u001b[0m \u001b[0;34m\u001b[0m\u001b[0m\n",
      "\u001b[0;31mNameError\u001b[0m: name 'customers' is not defined"
     ]
    }
   ],
   "source": [
    "\n"
   ]
  },
  {
   "cell_type": "code",
   "execution_count": null,
   "metadata": {},
   "outputs": [],
   "source": []
  },
  {
   "cell_type": "code",
   "execution_count": null,
   "metadata": {},
   "outputs": [],
   "source": []
  },
  {
   "cell_type": "code",
   "execution_count": null,
   "metadata": {},
   "outputs": [],
   "source": []
  }
 ],
 "metadata": {
  "kernelspec": {
   "display_name": "Python 3",
   "language": "python",
   "name": "python3"
  },
  "language_info": {
   "codemirror_mode": {
    "name": "ipython",
    "version": 3
   },
   "file_extension": ".py",
   "mimetype": "text/x-python",
   "name": "python",
   "nbconvert_exporter": "python",
   "pygments_lexer": "ipython3",
   "version": "3.7.6"
  }
 },
 "nbformat": 4,
 "nbformat_minor": 4
}
