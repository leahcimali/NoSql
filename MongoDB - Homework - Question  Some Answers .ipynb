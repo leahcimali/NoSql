{
 "cells": [
  {
   "cell_type": "code",
   "execution_count": 12,
   "metadata": {},
   "outputs": [
    {
     "data": {
      "text/plain": [
       "Database(MongoClient(host=['localhost:27017'], document_class=dict, tz_aware=False, connect=True), 'horizondb2')"
      ]
     },
     "execution_count": 12,
     "metadata": {},
     "output_type": "execute_result"
    }
   ],
   "source": [
    "import pymongo\n",
    "import json\n",
    "from pprint import pprint\n",
    "from pymongo import MongoClient \n",
    "myclient = MongoClient('localhost', 27017)\n",
    "db = myclient['horizondb2']\n",
    "movie_collection = db[\"movies\"]\n",
    "comment_collection = db[\"comments\"]\n",
    "/home/michael/Bureau/Horizon/NoSQL M1/inventory.crud.json"
   ]
  },
  {
   "cell_type": "markdown",
   "metadata": {},
   "source": [
    "## Movie Collection"
   ]
  },
  {
   "cell_type": "markdown",
   "metadata": {},
   "source": [
    "Q1. Write a MongoDB query to display the total number of documents in the collection movies.\n",
    "Expected output is 73843"
   ]
  },
  {
   "cell_type": "code",
   "execution_count": 2,
   "metadata": {},
   "outputs": [
    {
     "data": {
      "text/plain": [
       "0"
      ]
     },
     "execution_count": 2,
     "metadata": {},
     "output_type": "execute_result"
    }
   ],
   "source": [
    "db.movies.count_documents({})"
   ]
  },
  {
   "cell_type": "markdown",
   "metadata": {},
   "source": [
    "Q2. Write a MongoDB query to display any 5 documents using pretty format in the collection movies. "
   ]
  },
  {
   "cell_type": "code",
   "execution_count": null,
   "metadata": {},
   "outputs": [],
   "source": [
    "movies = db.movies.find().limit(5)\n",
    "for movie in movies : \n",
    "    pprint(movie)"
   ]
  },
  {
   "cell_type": "markdown",
   "metadata": {},
   "source": [
    "Q3. Write a MongoDB query to display 5 documents sorted by “title” using pretty format in the collection movies. "
   ]
  },
  {
   "cell_type": "code",
   "execution_count": null,
   "metadata": {},
   "outputs": [],
   "source": [
    "movies = db.movies.find().sort(\"title\", -1).limit(5)\n",
    "for movie in movies : \n",
    "    pprint(movie)"
   ]
  },
  {
   "cell_type": "markdown",
   "metadata": {},
   "source": [
    "Q4. Write a MongoDB query to display 5 documents (display only title and awards) sorted by “title” in descending order using pretty format in the collection movies. \n"
   ]
  },
  {
   "cell_type": "code",
   "execution_count": null,
   "metadata": {},
   "outputs": [],
   "source": [
    "movies = db.movies.find({},{\"title\":1,\"awards\":1,\"_id\":0}).sort(\"title\",-1).limit(5)\n",
    "for movie in movies : \n",
    "    pprint(movie)"
   ]
  },
  {
   "cell_type": "markdown",
   "metadata": {},
   "source": [
    "Q5. Write a MongoDB query to display movies (display only title and awards) with most awards (number of awards in descending order). \n"
   ]
  },
  {
   "cell_type": "code",
   "execution_count": null,
   "metadata": {},
   "outputs": [],
   "source": [
    "movies = db.movies.find({},{\"title\":2,\"awards\":2,\"_id\":0}).sort(\"awards.wins\" ,-1).limit(1)\n",
    "for movie in movies : \n",
    "    pprint(movie)"
   ]
  },
  {
   "cell_type": "markdown",
   "metadata": {},
   "source": [
    "Q6. Write a MongoDB query to display the details of the movie that won most awards "
   ]
  },
  {
   "cell_type": "code",
   "execution_count": null,
   "metadata": {},
   "outputs": [],
   "source": [
    "movies = db.movies.find().sort(\"awards.wins\", -1).limit(1)\n",
    "for movie in movies : \n",
    "    pprint(movie)"
   ]
  },
  {
   "cell_type": "markdown",
   "metadata": {},
   "source": [
    "Q7 Write a MongoDB query to display any 5 movies with both the genres: “Adventure” and “History” in collection movies (use $all)"
   ]
  },
  {
   "cell_type": "code",
   "execution_count": null,
   "metadata": {},
   "outputs": [],
   "source": [
    "movies = db.movies.find( {\"genres\":{\"$all\":[\"Adventure\",\"History\"]}} ).limit(5)\n",
    "for movie in movies : \n",
    "    pprint(movie)"
   ]
  },
  {
   "cell_type": "markdown",
   "metadata": {},
   "source": [
    "Q8. Write a MongoDB query to display any 5 movies with both the condition: genres “Adventure” and cast “Tom Hanks”."
   ]
  },
  {
   "cell_type": "code",
   "execution_count": null,
   "metadata": {},
   "outputs": [],
   "source": [
    "movies = db.movies.find({\"$and\":[\n",
    "    {\"genres\": {\"$all\":[\"Adventure\"]}}, \n",
    "    {\"cast\":{\"$all\":[\"Tom Hanks\"]}} \n",
    "]}).limit(5)\n",
    "\n",
    "for movie in movies : \n",
    "    pprint(movie)"
   ]
  },
  {
   "cell_type": "markdown",
   "metadata": {},
   "source": [
    "Q9. Write a MongoDB query to display average number of awards won by a movie (use aggregate function with $avg operator). \n"
   ]
  },
  {
   "cell_type": "code",
   "execution_count": null,
   "metadata": {},
   "outputs": [],
   "source": [
    "movies = db.movies.aggregate( [ { \"$group\": {\"_id\": \"\", \"num\": { \"$avg\":\"$awards.wins\" } } } ] )\n",
    "for movie in movies : \n",
    "    pprint(movie)"
   ]
  },
  {
   "cell_type": "markdown",
   "metadata": {},
   "source": [
    "Q10. Write a MongoDB query to display most awards won by a movie (use aggregate function with $max operator). \n"
   ]
  },
  {
   "cell_type": "code",
   "execution_count": null,
   "metadata": {},
   "outputs": [],
   "source": [
    "movies = db.movies.aggregate( [ { \"$group\": {\"_id\": \"\", \"num\": { \"$max\":\"$awards.wins\" } } } ] )\n",
    "for movie in movies : \n",
    "    pprint(movie)"
   ]
  },
  {
   "cell_type": "markdown",
   "metadata": {},
   "source": [
    "##  Comment Collection"
   ]
  },
  {
   "cell_type": "markdown",
   "metadata": {},
   "source": [
    "Q1. Write a MongoDB query to display the total number of documents in the collection comments."
   ]
  },
  {
   "cell_type": "code",
   "execution_count": null,
   "metadata": {},
   "outputs": [],
   "source": [
    "## Add your answer below"
   ]
  },
  {
   "cell_type": "markdown",
   "metadata": {},
   "source": [
    "Q2. Write a MongoDB query to display any 5 documents using pretty format in the collection comments.\n"
   ]
  },
  {
   "cell_type": "code",
   "execution_count": null,
   "metadata": {},
   "outputs": [],
   "source": [
    "## Add your answer below"
   ]
  },
  {
   "cell_type": "markdown",
   "metadata": {},
   "source": [
    "Q3. Write a MongoDB query to display 5 documents sorted by name using pretty format in the collection comments."
   ]
  },
  {
   "cell_type": "code",
   "execution_count": null,
   "metadata": {},
   "outputs": [],
   "source": [
    "## Add your answer below"
   ]
  },
  {
   "cell_type": "markdown",
   "metadata": {},
   "source": [
    "Q4. Write a MongoDB query to display 5 latest comments (documents sorted by date in descending order) from \"Megan Richards\" using pretty format in the collection comments.\n"
   ]
  },
  {
   "cell_type": "code",
   "execution_count": null,
   "metadata": {},
   "outputs": [],
   "source": [
    "## Add your answer below"
   ]
  },
  {
   "cell_type": "markdown",
   "metadata": {},
   "source": [
    "Q5. Write a MongoDB query to display the total number of comments posted by a user (use aggregate function on name) in the collection comments.\n"
   ]
  },
  {
   "cell_type": "code",
   "execution_count": null,
   "metadata": {},
   "outputs": [],
   "source": [
    "## Add your answer below"
   ]
  },
  {
   "cell_type": "markdown",
   "metadata": {},
   "source": [
    "Q6. Write a MongoDB query to display the maximum number of comments posted by a user (use aggregate function on name with $sum operator and then use $sort) in the collection comments."
   ]
  },
  {
   "cell_type": "code",
   "execution_count": null,
   "metadata": {},
   "outputs": [],
   "source": [
    "## Add your answer below"
   ]
  }
 ],
 "metadata": {
  "kernelspec": {
   "display_name": "Python 3",
   "language": "python",
   "name": "python3"
  },
  "language_info": {
   "codemirror_mode": {
    "name": "ipython",
    "version": 3
   },
   "file_extension": ".py",
   "mimetype": "text/x-python",
   "name": "python",
   "nbconvert_exporter": "python",
   "pygments_lexer": "ipython3",
   "version": "3.7.6"
  }
 },
 "nbformat": 4,
 "nbformat_minor": 4
}
