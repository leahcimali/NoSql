{
 "cells": [
  {
   "cell_type": "code",
   "execution_count": 1,
   "metadata": {},
   "outputs": [],
   "source": [
    "import pymongo\n",
    "from pprint import pprint\n",
    "from pymongo import MongoClient \n",
    "myclient = MongoClient('localhost', 27017)\n",
    "db = myclient['horizondb2']\n",
    "movie_collection = db[\"movies\"]\n",
    "comment_collection = db[\"comments\"]"
   ]
  },
  {
   "cell_type": "code",
   "execution_count": 2,
   "metadata": {},
   "outputs": [
    {
     "name": "stdout",
     "output_type": "stream",
     "text": [
      "Before Creating index\n",
      "['_id_', 'title_1', 'year_1']\n"
     ]
    }
   ],
   "source": [
    "# Before Creating index\n",
    "# Using index_information() method, we get all the indexes in the collection\n",
    "index_list = sorted(list(movie_collection.index_information()))\n",
    "print(\"Before Creating index\")\n",
    "print(index_list)"
   ]
  },
  {
   "cell_type": "code",
   "execution_count": 3,
   "metadata": {},
   "outputs": [],
   "source": [
    "movie_collection.find_one()"
   ]
  },
  {
   "cell_type": "code",
   "execution_count": 4,
   "metadata": {},
   "outputs": [
    {
     "data": {
      "text/plain": [
       "'title_1'"
      ]
     },
     "execution_count": 4,
     "metadata": {},
     "output_type": "execute_result"
    }
   ],
   "source": [
    "# Creating index\n",
    "movie_collection.create_index(\"title\")"
   ]
  },
  {
   "cell_type": "code",
   "execution_count": 5,
   "metadata": {},
   "outputs": [
    {
     "name": "stdout",
     "output_type": "stream",
     "text": [
      "\n",
      "After Creating index\n",
      "['_id_', 'title_1', 'year_1']\n"
     ]
    }
   ],
   "source": [
    "# After Creating index\n",
    "index_list = sorted(list(movie_collection.index_information()))\n",
    "print(\"\\nAfter Creating index\")\n",
    "print(index_list)"
   ]
  },
  {
   "cell_type": "code",
   "execution_count": 6,
   "metadata": {},
   "outputs": [
    {
     "name": "stdout",
     "output_type": "stream",
     "text": [
      "{'allPlansExecution': [],\n",
      " 'executionStages': {'advanced': 0,\n",
      "                     'direction': 'forward',\n",
      "                     'docsExamined': 0,\n",
      "                     'executionTimeMillisEstimate': 0,\n",
      "                     'filter': {'year': {'$eq': '1893'}},\n",
      "                     'isEOF': 1,\n",
      "                     'nReturned': 0,\n",
      "                     'needTime': 1,\n",
      "                     'needYield': 0,\n",
      "                     'restoreState': 0,\n",
      "                     'saveState': 0,\n",
      "                     'stage': 'COLLSCAN',\n",
      "                     'works': 2},\n",
      " 'executionSuccess': True,\n",
      " 'executionTimeMillis': 0,\n",
      " 'nReturned': 0,\n",
      " 'totalDocsExamined': 0,\n",
      " 'totalKeysExamined': 0}\n"
     ]
    }
   ],
   "source": [
    "# Query stats \n",
    "pprint(movie_collection.find({'year':'1893'}).explain()['executionStats'])"
   ]
  },
  {
   "cell_type": "code",
   "execution_count": 7,
   "metadata": {},
   "outputs": [
    {
     "data": {
      "text/plain": [
       "'year_1'"
      ]
     },
     "execution_count": 7,
     "metadata": {},
     "output_type": "execute_result"
    }
   ],
   "source": [
    "# Create new index\n",
    "movie_collection.create_index(\"year\")"
   ]
  },
  {
   "cell_type": "code",
   "execution_count": 8,
   "metadata": {},
   "outputs": [
    {
     "name": "stdout",
     "output_type": "stream",
     "text": [
      "{'allPlansExecution': [],\n",
      " 'executionStages': {'advanced': 0,\n",
      "                     'alreadyHasObj': 0,\n",
      "                     'docsExamined': 0,\n",
      "                     'executionTimeMillisEstimate': 0,\n",
      "                     'inputStage': {'advanced': 0,\n",
      "                                    'direction': 'forward',\n",
      "                                    'dupsDropped': 0,\n",
      "                                    'dupsTested': 0,\n",
      "                                    'executionTimeMillisEstimate': 0,\n",
      "                                    'indexBounds': {'year': ['[\"1893\", '\n",
      "                                                             '\"1893\"]']},\n",
      "                                    'indexName': 'year_1',\n",
      "                                    'indexVersion': 2,\n",
      "                                    'isEOF': 1,\n",
      "                                    'isMultiKey': False,\n",
      "                                    'isPartial': False,\n",
      "                                    'isSparse': False,\n",
      "                                    'isUnique': False,\n",
      "                                    'keyPattern': {'year': 1},\n",
      "                                    'keysExamined': 0,\n",
      "                                    'multiKeyPaths': {'year': []},\n",
      "                                    'nReturned': 0,\n",
      "                                    'needTime': 0,\n",
      "                                    'needYield': 0,\n",
      "                                    'restoreState': 0,\n",
      "                                    'saveState': 0,\n",
      "                                    'seeks': 1,\n",
      "                                    'stage': 'IXSCAN',\n",
      "                                    'works': 1},\n",
      "                     'isEOF': 1,\n",
      "                     'nReturned': 0,\n",
      "                     'needTime': 0,\n",
      "                     'needYield': 0,\n",
      "                     'restoreState': 0,\n",
      "                     'saveState': 0,\n",
      "                     'stage': 'FETCH',\n",
      "                     'works': 1},\n",
      " 'executionSuccess': True,\n",
      " 'executionTimeMillis': 0,\n",
      " 'nReturned': 0,\n",
      " 'totalDocsExamined': 0,\n",
      " 'totalKeysExamined': 0}\n"
     ]
    }
   ],
   "source": [
    "# Query stats \n",
    "pprint(movie_collection.find({'year':'1893'}).explain()['executionStats'])"
   ]
  },
  {
   "cell_type": "code",
   "execution_count": 9,
   "metadata": {},
   "outputs": [
    {
     "name": "stdout",
     "output_type": "stream",
     "text": [
      "\n",
      "After Creating index\n",
      "['_id_', 'title_1', 'year_1']\n"
     ]
    }
   ],
   "source": [
    "#  Index Information\n",
    "index_list = sorted(list(movie_collection.index_information()))\n",
    "print(\"\\nAfter Creating index\")\n",
    "print(index_list)"
   ]
  },
  {
   "cell_type": "code",
   "execution_count": 10,
   "metadata": {},
   "outputs": [],
   "source": [
    "# Drop index\n",
    "movie_collection.drop_index('title_1')"
   ]
  },
  {
   "cell_type": "code",
   "execution_count": 11,
   "metadata": {},
   "outputs": [
    {
     "name": "stdout",
     "output_type": "stream",
     "text": [
      "\n",
      "After Creating index\n",
      "['_id_', 'year_1']\n"
     ]
    }
   ],
   "source": [
    "# After Dropping index\n",
    "index_list = sorted(list(movie_collection.index_information()))\n",
    "print(\"\\nAfter Creating index\")\n",
    "print(index_list)"
   ]
  },
  {
   "cell_type": "code",
   "execution_count": null,
   "metadata": {},
   "outputs": [],
   "source": []
  }
 ],
 "metadata": {
  "kernelspec": {
   "display_name": "Python 3",
   "language": "python",
   "name": "python3"
  },
  "language_info": {
   "codemirror_mode": {
    "name": "ipython",
    "version": 3
   },
   "file_extension": ".py",
   "mimetype": "text/x-python",
   "name": "python",
   "nbconvert_exporter": "python",
   "pygments_lexer": "ipython3",
   "version": "3.7.6"
  }
 },
 "nbformat": 4,
 "nbformat_minor": 4
}
