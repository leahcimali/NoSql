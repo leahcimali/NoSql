{
 "cells": [
  {
   "cell_type": "markdown",
   "metadata": {},
   "source": [
    "## Import Data "
   ]
  },
  {
   "cell_type": "markdown",
   "metadata": {},
   "source": [
    "Download the following json files \n",
    "- https://github.com/neelabalan/mongodb-sample-dataset/raw/main/sample_mflix/movies.json\n",
    "- https://github.com/neelabalan/mongodb-sample-dataset/raw/main/sample_mflix/comments.json\n",
    "\n",
    "Import data from movies.json file into MongoDB. It contains movie information, including release year, director, and reviews.\n",
    "\n",
    "**mongoimport --db horizondb2 --collection movies --file movies.json**\n",
    "\n",
    "Import data from comments.json file into MongoDB. It contains comments associated with specific movies.\n",
    "\n",
    "**mongoimport --db horizondb2 --collection comments --file comments.json**"
   ]
  },
  {
   "cell_type": "code",
   "execution_count": null,
   "metadata": {},
   "outputs": [],
   "source": [
    "import pymongo\n",
    "from pprint import pprint\n",
    "from pymongo import MongoClient \n",
    "myclient = MongoClient('localhost', 27017)\n",
    "horizondb = myclient['horizondb2']\n",
    "movie_collection = horizondb[\"movies\"]\n",
    "comment_collection = horizondb[\"comments\"]"
   ]
  },
  {
   "cell_type": "markdown",
   "metadata": {},
   "source": [
    "##  Look at the data"
   ]
  },
  {
   "cell_type": "code",
   "execution_count": null,
   "metadata": {},
   "outputs": [],
   "source": [
    "# find one movie  \n",
    "movie = movie_collection.find_one()\n",
    "pprint(movie)"
   ]
  },
  {
   "cell_type": "markdown",
   "metadata": {},
   "source": [
    "## Match and Sort"
   ]
  },
  {
   "cell_type": "code",
   "execution_count": null,
   "metadata": {},
   "outputs": [],
   "source": [
    "# Match title = \"A Star Is Born\":\n",
    "stage_match_title = {\n",
    "   \"$match\": {\n",
    "         \"title\": \"A Star Is Born\"\n",
    "   }\n",
    "}\n",
    "\n",
    "# Sort by year, ascending:\n",
    "stage_sort_year_ascending = {\n",
    "   \"$sort\": { \"year\": pymongo.ASCENDING }\n",
    "}\n",
    "\n",
    "# Now the pipeline is easier to read:\n",
    "pipeline = [\n",
    "   stage_match_title,\n",
    "   stage_sort_year_ascending,\n",
    "]"
   ]
  },
  {
   "cell_type": "markdown",
   "metadata": {},
   "source": [
    "## Execute the pipeline"
   ]
  },
  {
   "cell_type": "raw",
   "metadata": {},
   "source": [
    "Executes the pipeline with aggregate, and then loops through and prints the detail of each movie in the results."
   ]
  },
  {
   "cell_type": "code",
   "execution_count": 18,
   "metadata": {},
   "outputs": [
    {
     "name": "stdout",
     "output_type": "stream",
     "text": [
      " * A Star Is Born, Janet Gaynor, 1937\n",
      " * A Star Is Born, Judy Garland, 1954\n",
      " * A Star Is Born, Barbra Streisand, 1976\n"
     ]
    }
   ],
   "source": [
    "results = movie_collection.aggregate(pipeline)\n",
    "for movie in results:\n",
    "    print(\" * {title}, {first_castmember}, {year}\".format(\n",
    "         title=movie[\"title\"],\n",
    "         first_castmember=movie[\"cast\"][0],\n",
    "         year=movie[\"year\"],\n",
    "   ))"
   ]
  },
  {
   "cell_type": "markdown",
   "metadata": {},
   "source": [
    "## Limit the Number of Results"
   ]
  },
  {
   "cell_type": "code",
   "execution_count": 19,
   "metadata": {},
   "outputs": [
    {
     "name": "stdout",
     "output_type": "stream",
     "text": [
      " * A Star Is Born, Barbra Streisand, 1976\n"
     ]
    }
   ],
   "source": [
    "# Sort by year, descending:\n",
    "stage_sort_year_descending = {\n",
    "   \"$sort\": { \"year\": pymongo.DESCENDING }\n",
    "}\n",
    "\n",
    "# Limit to 1 document:\n",
    "stage_limit_1 = { \"$limit\": 1 }\n",
    "\n",
    "pipeline = [\n",
    "   stage_match_title,\n",
    "   stage_sort_year_descending,\n",
    "   stage_limit_1,\n",
    "]\n",
    "results = movie_collection.aggregate(pipeline)\n",
    "for movie in results:\n",
    "    print(\" * {title}, {first_castmember}, {year}\".format(\n",
    "         title=movie[\"title\"],\n",
    "         first_castmember=movie[\"cast\"][0],\n",
    "         year=movie[\"year\"],\n",
    "   ))"
   ]
  },
  {
   "cell_type": "markdown",
   "metadata": {},
   "source": [
    "## Look Up Related Data in Other Collections"
   ]
  },
  {
   "cell_type": "code",
   "execution_count": 20,
   "metadata": {},
   "outputs": [
    {
     "name": "stdout",
     "output_type": "stream",
     "text": [
      "{'_id': ObjectId('5a9427648b0beebeb69579cc'),\n",
      " 'date': datetime.datetime(2012, 3, 26, 23, 20, 16),\n",
      " 'email': 'andrea_le@fakegmail.com',\n",
      " 'movie_id': ObjectId('573a1390f29313caabcd418c'),\n",
      " 'name': 'Andrea Le',\n",
      " 'text': 'Rem officiis eaque repellendus amet eos doloribus. Porro dolor '\n",
      "         'voluptatum voluptates neque culpa molestias. Voluptate unde nulla '\n",
      "         'temporibus ullam.'}\n"
     ]
    }
   ],
   "source": [
    "# find one movie  \n",
    "comment = comment_collection.find_one()\n",
    "pprint(comment)"
   ]
  },
  {
   "cell_type": "markdown",
   "metadata": {},
   "source": [
    "The stage called **stage_lookup_comments** is a **\\$lookup** stage. This **$lookup** stage will look up documents from the comments collection that have the same movie id. The matching comments will be listed as an array in a field named **related_comments**, with an array value containing all of the comments that have this movie's **_id** value as **movie_id**."
   ]
  },
  {
   "cell_type": "code",
   "execution_count": 21,
   "metadata": {},
   "outputs": [
    {
     "name": "stdout",
     "output_type": "stream",
     "text": [
      "{'_id': ObjectId('573a1390f29313caabcd4135'),\n",
      " 'awards': {'nominations': 0, 'text': '1 win.', 'wins': 1},\n",
      " 'cast': ['Charles Kayser', 'John Ott'],\n",
      " 'countries': ['USA'],\n",
      " 'directors': ['William K.L. Dickson'],\n",
      " 'fullplot': 'A stationary camera looks at a large anvil with a blacksmith '\n",
      "             'behind it and one on either side. The smith in the middle draws '\n",
      "             'a heated metal rod from the fire, places it on the anvil, and '\n",
      "             'all three begin a rhythmic hammering. After several blows, the '\n",
      "             'metal goes back in the fire. One smith pulls out a bottle of '\n",
      "             'beer, and they each take a swig. Then, out comes the glowing '\n",
      "             'metal and the hammering resumes.',\n",
      " 'genres': ['Short'],\n",
      " 'imdb': {'id': 5, 'rating': 6.2, 'votes': 1189},\n",
      " 'lastupdated': '2015-08-26 00:03:50.133000000',\n",
      " 'num_mflix_comments': 1,\n",
      " 'plot': 'Three men hammer on an anvil and pass a bottle of beer around.',\n",
      " 'rated': 'UNRATED',\n",
      " 'related_comments': [],\n",
      " 'released': datetime.datetime(1893, 5, 9, 0, 0),\n",
      " 'runtime': 1,\n",
      " 'title': 'Blacksmith Scene',\n",
      " 'tomatoes': {'lastUpdated': datetime.datetime(2015, 6, 28, 18, 34, 9),\n",
      "              'viewer': {'meter': 32, 'numReviews': 184, 'rating': 3}},\n",
      " 'type': 'movie',\n",
      " 'year': 1893}\n",
      "{'_id': ObjectId('573a1390f29313caabcd42e8'),\n",
      " 'awards': {'nominations': 0, 'text': '1 win.', 'wins': 1},\n",
      " 'cast': ['A.C. Abadie',\n",
      "          \"Gilbert M. 'Broncho Billy' Anderson\",\n",
      "          'George Barnes',\n",
      "          'Justus D. Barnes'],\n",
      " 'countries': ['USA'],\n",
      " 'directors': ['Edwin S. Porter'],\n",
      " 'fullplot': 'Among the earliest existing films in American cinema - notable '\n",
      "             'as the first film that presented a narrative story to tell - it '\n",
      "             'depicts a group of cowboy outlaws who hold up a train and rob '\n",
      "             \"the passengers. They are then pursued by a Sheriff's posse. \"\n",
      "             'Several scenes have color included - all hand tinted.',\n",
      " 'genres': ['Short', 'Western'],\n",
      " 'imdb': {'id': 439, 'rating': 7.4, 'votes': 9847},\n",
      " 'languages': ['English'],\n",
      " 'lastupdated': '2015-08-13 00:27:59.177000000',\n",
      " 'plot': 'A group of bandits stage a brazen train hold-up, only to find a '\n",
      "         'determined posse hot on their heels.',\n",
      " 'poster': 'https://m.media-amazon.com/images/M/MV5BMTU3NjE5NzYtYTYyNS00MDVmLWIwYjgtMmYwYWIxZDYyNzU2XkEyXkFqcGdeQXVyNzQzNzQxNzI@._V1_SY1000_SX677_AL_.jpg',\n",
      " 'rated': 'TV-G',\n",
      " 'related_comments': [],\n",
      " 'released': datetime.datetime(1903, 12, 1, 0, 0),\n",
      " 'runtime': 11,\n",
      " 'title': 'The Great Train Robbery',\n",
      " 'tomatoes': {'critic': {'meter': 100, 'numReviews': 6, 'rating': 7.6},\n",
      "              'fresh': 6,\n",
      "              'lastUpdated': datetime.datetime(2015, 8, 8, 19, 16, 10),\n",
      "              'rotten': 0,\n",
      "              'viewer': {'meter': 75, 'numReviews': 2559, 'rating': 3.7}},\n",
      " 'type': 'movie',\n",
      " 'year': 1903}\n",
      "{'_id': ObjectId('573a1390f29313caabcd4323'),\n",
      " 'awards': {'nominations': 0, 'text': '1 win.', 'wins': 1},\n",
      " 'cast': ['Martin Fuller',\n",
      "          'Mrs. William Bechtel',\n",
      "          'Walter Edwin',\n",
      "          'Ethel Jewett'],\n",
      " 'countries': ['USA'],\n",
      " 'directors': ['Harold M. Shaw'],\n",
      " 'fullplot': 'Thanks to the Fresh Air Fund, a slum child escapes his drunken '\n",
      "             \"mother for a day's outing in the country. Upon arriving, he and \"\n",
      "             'the other children are told a story about a mythical land of no '\n",
      "             \"pain. Rather then return to the slum at day's end, the lad seeks \"\n",
      "             'to journey to that beautiful land beyond the sunset.',\n",
      " 'genres': ['Short', 'Drama', 'Fantasy'],\n",
      " 'imdb': {'id': 488, 'rating': 7.1, 'votes': 448},\n",
      " 'languages': ['English'],\n",
      " 'lastupdated': '2015-08-29 00:27:45.437000000',\n",
      " 'num_mflix_comments': 2,\n",
      " 'plot': 'A young boy, opressed by his mother, goes on an outing in the '\n",
      "         'country with a social welfare group where he dares to dream of a '\n",
      "         'land where the cares of his ordinary life fade.',\n",
      " 'poster': 'https://m.media-amazon.com/images/M/MV5BMTMzMDcxMjgyNl5BMl5BanBnXkFtZTcwOTgxNjg4Mg@@._V1_SY1000_SX677_AL_.jpg',\n",
      " 'rated': 'UNRATED',\n",
      " 'related_comments': [{'_id': ObjectId('5a9427648b0beebeb69579e7'),\n",
      "                       'date': datetime.datetime(2002, 8, 18, 4, 56, 7),\n",
      "                       'email': 'mercedes_tyler@fakegmail.com',\n",
      "                       'movie_id': ObjectId('573a1390f29313caabcd4323'),\n",
      "                       'name': 'Mercedes Tyler',\n",
      "                       'text': 'Eius veritatis vero facilis quaerat fuga '\n",
      "                               'temporibus. Praesentium expedita sequi '\n",
      "                               'repellat id. Corporis minima enim ex. '\n",
      "                               'Provident fugit nisi dignissimos nulla nam '\n",
      "                               'ipsum aliquam.'}],\n",
      " 'released': datetime.datetime(1912, 10, 28, 0, 0),\n",
      " 'runtime': 14,\n",
      " 'title': 'The Land Beyond the Sunset',\n",
      " 'tomatoes': {'lastUpdated': datetime.datetime(2015, 4, 27, 19, 6, 35),\n",
      "              'viewer': {'meter': 67, 'numReviews': 53, 'rating': 3.7}},\n",
      " 'type': 'movie',\n",
      " 'writers': ['Dorothy G. Shore'],\n",
      " 'year': 1912}\n",
      "{'_id': ObjectId('573a1390f29313caabcd446f'),\n",
      " 'awards': {'nominations': 0, 'text': '1 win.', 'wins': 1},\n",
      " 'cast': ['Frank Powell',\n",
      "          'Grace Henderson',\n",
      "          'James Kirkwood',\n",
      "          'Linda Arvidson'],\n",
      " 'countries': ['USA'],\n",
      " 'directors': ['D.W. Griffith'],\n",
      " 'fullplot': 'A greedy tycoon decides, on a whim, to corner the world market '\n",
      "             \"in wheat. This doubles the price of bread, forcing the grain's \"\n",
      "             'producers into charity lines and further into poverty. The film '\n",
      "             'continues to contrast the ironic differences between the lives '\n",
      "             'of those who work to grow the wheat and the life of the man who '\n",
      "             'dabbles in its sale for profit.',\n",
      " 'genres': ['Short', 'Drama'],\n",
      " 'imdb': {'id': 832, 'rating': 6.6, 'votes': 1375},\n",
      " 'languages': ['English'],\n",
      " 'lastupdated': '2015-08-13 00:46:30.660000000',\n",
      " 'num_mflix_comments': 1,\n",
      " 'plot': 'A greedy tycoon decides, on a whim, to corner the world market in '\n",
      "         \"wheat. This doubles the price of bread, forcing the grain's \"\n",
      "         'producers into charity lines and further into poverty. The film...',\n",
      " 'rated': 'G',\n",
      " 'related_comments': [{'_id': ObjectId('5a9427648b0beebeb69579f5'),\n",
      "                       'date': datetime.datetime(1975, 1, 21, 0, 31, 22),\n",
      "                       'email': 'john_bishop@fakegmail.com',\n",
      "                       'movie_id': ObjectId('573a1390f29313caabcd446f'),\n",
      "                       'name': 'John Bishop',\n",
      "                       'text': 'Id error ab at molestias dolorum incidunt. Non '\n",
      "                               'deserunt praesentium dolorem nihil. Optio '\n",
      "                               'tempora vel ut quas.\\n'\n",
      "                               'Minus dicta numquam quasi. Rem totam cumque at '\n",
      "                               'eum. Ullam hic ut ea magni.'}],\n",
      " 'released': datetime.datetime(1909, 12, 13, 0, 0),\n",
      " 'runtime': 14,\n",
      " 'title': 'A Corner in Wheat',\n",
      " 'tomatoes': {'lastUpdated': datetime.datetime(2015, 5, 11, 18, 36, 53),\n",
      "              'viewer': {'meter': 73, 'numReviews': 109, 'rating': 3.6}},\n",
      " 'type': 'movie',\n",
      " 'year': 1909}\n",
      "{'_id': ObjectId('573a1390f29313caabcd4803'),\n",
      " 'awards': {'nominations': 0, 'text': '1 win.', 'wins': 1},\n",
      " 'cast': ['Winsor McCay'],\n",
      " 'countries': ['USA'],\n",
      " 'directors': ['Winsor McCay', 'J. Stuart Blackton'],\n",
      " 'fullplot': 'Cartoonist Winsor McCay agrees to create a large set of drawings '\n",
      "             'that will be photographed and made into a motion picture. The '\n",
      "             'job requires plenty of drawing supplies, and the cartoonist must '\n",
      "             'also overcome some mishaps caused by an assistant. Finally, the '\n",
      "             'work is done, and everyone can see the resulting animated '\n",
      "             'picture.',\n",
      " 'genres': ['Animation', 'Short', 'Comedy'],\n",
      " 'imdb': {'id': 1737, 'rating': 7.3, 'votes': 1034},\n",
      " 'languages': ['English'],\n",
      " 'lastupdated': '2015-08-29 01:09:03.030000000',\n",
      " 'num_mflix_comments': 1,\n",
      " 'plot': 'Cartoon figures announce, via comic strip balloons, that they will '\n",
      "         'move - and move they do, in a wildly exaggerated style.',\n",
      " 'poster': 'https://m.media-amazon.com/images/M/MV5BYzg2NjNhNTctMjUxMi00ZWU4LWI3ZjYtNTI0NTQxNThjZTk2XkEyXkFqcGdeQXVyNzg5OTk2OA@@._V1_SY1000_SX677_AL_.jpg',\n",
      " 'related_comments': [],\n",
      " 'released': datetime.datetime(1911, 4, 8, 0, 0),\n",
      " 'runtime': 7,\n",
      " 'title': 'Winsor McCay, the Famous Cartoonist of the N.Y. Herald and His '\n",
      "          'Moving Comics',\n",
      " 'tomatoes': {'lastUpdated': datetime.datetime(2015, 8, 20, 18, 51, 24),\n",
      "              'viewer': {'meter': 47, 'numReviews': 89, 'rating': 3.4}},\n",
      " 'type': 'movie',\n",
      " 'writers': ['Winsor McCay (comic strip \"Little Nemo in Slumberland\")',\n",
      "             'Winsor McCay (screenplay)'],\n",
      " 'year': 1911}\n"
     ]
    }
   ],
   "source": [
    "# Look up related documents in the 'comments' collection:\n",
    "stage_lookup_comments = {\n",
    "   \"$lookup\": {\n",
    "         \"from\": \"comments\",\n",
    "         \"localField\": \"_id\",\n",
    "         \"foreignField\": \"movie_id\",\n",
    "         \"as\": \"related_comments\",\n",
    "   }\n",
    "}\n",
    "\n",
    "# Limit to the first 5 documents:\n",
    "stage_limit_5 = { \"$limit\": 5 }\n",
    "\n",
    "pipeline = [\n",
    "   stage_lookup_comments,\n",
    "   stage_limit_5,\n",
    "]\n",
    "\n",
    "results = movie_collection.aggregate(pipeline)\n",
    "for movie in results:\n",
    "    pprint(movie)"
   ]
  },
  {
   "cell_type": "markdown",
   "metadata": {},
   "source": [
    "## AddFields"
   ]
  },
  {
   "cell_type": "code",
   "execution_count": 22,
   "metadata": {},
   "outputs": [],
   "source": [
    "# Calculate the number of comments for each movie:\n",
    "stage_add_comment_count = {\n",
    "   \"$addFields\": {\n",
    "         \"comment_count\": {\n",
    "            \"$size\": \"$related_comments\"\n",
    "         }\n",
    "   }\n",
    "}\n",
    "\n",
    "# Match movie documents with more than 2 comments:\n",
    "stage_match_with_comments = {\n",
    "   \"$match\": {\n",
    "         \"comment_count\": {\n",
    "            \"$gt\": 2\n",
    "         }\n",
    "   }\n",
    "}"
   ]
  },
  {
   "cell_type": "code",
   "execution_count": 24,
   "metadata": {},
   "outputs": [],
   "source": [
    "pipeline = [\n",
    "   stage_lookup_comments,\n",
    "   stage_add_comment_count,\n",
    "   stage_match_with_comments,\n",
    "   stage_limit_5,\n",
    "]"
   ]
  },
  {
   "cell_type": "code",
   "execution_count": null,
   "metadata": {},
   "outputs": [],
   "source": [
    "results = movie_collection.aggregate(pipeline)\n",
    "for movie in results:\n",
    "    print(movie[\"title\"])\n",
    "    print(\"Comment count:\", movie[\"comment_count\"])\n",
    "    \n",
    "    # Loop through the first 5 comments and print the name and text:\n",
    "    for comment in movie[\"related_comments\"][:5]:\n",
    "        print(\" * {name}: {text}\".format(\n",
    "            name=comment[\"name\"],\n",
    "            text=comment[\"text\"]))"
   ]
  },
  {
   "cell_type": "markdown",
   "metadata": {},
   "source": [
    "## Grouping Documents"
   ]
  },
  {
   "cell_type": "code",
   "execution_count": 13,
   "metadata": {},
   "outputs": [],
   "source": [
    "stage_group_year = {\n",
    "   \"$group\": {\n",
    "         \"_id\": \"$year\",\n",
    "         # Count the number of movies in the group:\n",
    "         \"movie_count\": { \"$sum\": 1 },\n",
    "       \"movie_titles\": { \"$push\": \"$title\" }\n",
    "   }\n",
    "}\n",
    "\n",
    "pipeline = [\n",
    "   stage_group_year,\n",
    "]\n",
    "results = movie_collection.aggregate(pipeline)\n",
    "\n",
    "# Loop through the 'year-summary' documents:\n",
    "for year_summary in results:\n",
    "    pprint(year_summary)"
   ]
  },
  {
   "cell_type": "code",
   "execution_count": 14,
   "metadata": {},
   "outputs": [],
   "source": [
    "stage_match_years = {\n",
    "   \"$match\": {\n",
    "         \"year\": {\n",
    "            \"$type\": \"number\",\n",
    "         }\n",
    "   }\n",
    "}\n",
    "\n",
    "stage_sort_year_ascending = {\n",
    "  \"$sort\": {\"_id\": pymongo.ASCENDING}\n",
    "}\n",
    "\n",
    "pipeline = [\n",
    "   stage_match_years,         # Match numeric years\n",
    "   stage_group_year,\n",
    "   stage_sort_year_ascending, # Sort by year\n",
    "]\n",
    "results = movie_collection.aggregate(pipeline)\n",
    "\n",
    "# Loop through the 'year-summary' documents:\n",
    "for year_summary in results:\n",
    "    pprint(year_summary)"
   ]
  },
  {
   "cell_type": "code",
   "execution_count": null,
   "metadata": {},
   "outputs": [],
   "source": []
  },
  {
   "cell_type": "code",
   "execution_count": null,
   "metadata": {},
   "outputs": [],
   "source": []
  },
  {
   "cell_type": "code",
   "execution_count": null,
   "metadata": {},
   "outputs": [],
   "source": []
  }
 ],
 "metadata": {
  "kernelspec": {
   "display_name": "Python 3",
   "language": "python",
   "name": "python3"
  },
  "language_info": {
   "codemirror_mode": {
    "name": "ipython",
    "version": 3
   },
   "file_extension": ".py",
   "mimetype": "text/x-python",
   "name": "python",
   "nbconvert_exporter": "python",
   "pygments_lexer": "ipython3",
   "version": "3.7.6"
  }
 },
 "nbformat": 4,
 "nbformat_minor": 4
}
