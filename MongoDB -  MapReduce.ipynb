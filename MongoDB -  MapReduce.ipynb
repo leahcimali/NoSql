{
 "cells": [
  {
   "cell_type": "code",
   "execution_count": null,
   "metadata": {},
   "outputs": [],
   "source": [
    "import pymongo\n",
    "from pprint import pprint\n",
    "from pymongo import MongoClient \n",
    "from bson.son import SON\n",
    "myclient = MongoClient('localhost', 27017)\n",
    "horizondb = myclient['horizondb3']\n",
    "things = horizondb[\"things\"]\n",
    "things.insert_one({\"x\": 1, \"tags\": [\"dog\", \"cat\"]})\n",
    "things.insert_one({\"x\": 2, \"tags\": [\"cat\"]})\n",
    "things.insert_one({\"x\": 2, \"tags\": [\"mouse\", \"cat\", \"dog\"]})\n",
    "things.insert_one({\"x\": 3, \"tags\": []})"
   ]
  },
  {
   "cell_type": "code",
   "execution_count": null,
   "metadata": {},
   "outputs": [],
   "source": [
    "results = things.aggregate([ {\"$unwind\": \"$tags\"},\n",
    "                  {\"$group\": {\"_id\": \"$tags\", \"count\": {\"$sum\": 1}}},\n",
    "                  {\"$sort\": SON([(\"count\", -1), (\"_id\", -1)])}\n",
    "                  ])"
   ]
  },
  {
   "cell_type": "code",
   "execution_count": null,
   "metadata": {},
   "outputs": [],
   "source": [
    "for result in results:\n",
    "    print(result)"
   ]
  },
  {
   "cell_type": "markdown",
   "metadata": {},
   "source": [
    "## MaprReduce"
   ]
  },
  {
   "cell_type": "code",
   "execution_count": null,
   "metadata": {},
   "outputs": [],
   "source": [
    "from bson.code import Code\n",
    "mapper = Code(\"\"\" function () {\n",
    "              this.tags.forEach(function(z) {\n",
    "                  emit(z, 1)\n",
    "              });\n",
    "              }\n",
    "               \"\"\")\n",
    "reducer = Code(\"\"\" function (key, values) {\n",
    "                         var total = 0;\n",
    "                         for (var i = 0; i < values.length; i++) {\n",
    "                         total += values[i];\n",
    "                         }\n",
    "                         return total;\n",
    "                    }\n",
    "                    \"\"\")\n",
    "\n",
    "results = things.map_reduce(mapper, reducer, \"myresults\")\n",
    "for doc in results.find():\n",
    "    print(doc)"
   ]
  },
  {
   "cell_type": "markdown",
   "metadata": {},
   "source": [
    "## Advanced Map/Reduce"
   ]
  },
  {
   "cell_type": "code",
   "execution_count": null,
   "metadata": {},
   "outputs": [],
   "source": [
    "results = things.map_reduce(mapper, reducer, \"myresults\", query={\"x\": {\"$lt\": 2}})\n",
    "for doc in results.find():\n",
    "    print(doc)"
   ]
  }
 ],
 "metadata": {
  "kernelspec": {
   "display_name": "Python 3",
   "language": "python",
   "name": "python3"
  },
  "language_info": {
   "codemirror_mode": {
    "name": "ipython",
    "version": 3
   },
   "file_extension": ".py",
   "mimetype": "text/x-python",
   "name": "python",
   "nbconvert_exporter": "python",
   "pygments_lexer": "ipython3",
   "version": "3.7.6"
  }
 },
 "nbformat": 4,
 "nbformat_minor": 4
}
