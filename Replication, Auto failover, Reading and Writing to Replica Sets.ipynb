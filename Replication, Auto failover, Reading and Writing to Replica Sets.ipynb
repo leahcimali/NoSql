{
 "cells": [
  {
   "cell_type": "markdown",
   "metadata": {},
   "source": [
    "# Replication, Auto failover, Reading and Writing to Replica Sets"
   ]
  },
  {
   "cell_type": "markdown",
   "metadata": {},
   "source": [
    "## Connect to MongoDB "
   ]
  },
  {
   "cell_type": "code",
   "execution_count": null,
   "metadata": {},
   "outputs": [],
   "source": [
    "import pymongo\n",
    "from pymongo import MongoClient \n",
    "from pprint import pprint"
   ]
  },
  {
   "cell_type": "markdown",
   "metadata": {},
   "source": [
    "## Read/Write from a secondary"
   ]
  },
  {
   "cell_type": "markdown",
   "metadata": {},
   "source": [
    "Let's connect to a secondary and try to read from it ... (please note you need to adpat 27018 to a port of a secondary in your replica set) "
   ]
  },
  {
   "cell_type": "code",
   "execution_count": null,
   "metadata": {},
   "outputs": [],
   "source": [
    "myclient = MongoClient('localhost', 27019)\n",
    "replica_set_db = myclient['replica_set_db']\n",
    "replica_set_col = replica_set_db[\"replica_set_col\"]\n",
    "docs = replica_set_col.find()\n",
    "for doc in docs:\n",
    "    pprint(doc)"
   ]
  },
  {
   "cell_type": "markdown",
   "metadata": {},
   "source": [
    "Let's now try to write to a secondary "
   ]
  },
  {
   "cell_type": "code",
   "execution_count": null,
   "metadata": {},
   "outputs": [],
   "source": [
    "doc = { \"university\": \"Horizon\", \"course\": \"Mongo DB\" }\n",
    "adoc = replica_set_col.insert_one(doc)"
   ]
  },
  {
   "cell_type": "markdown",
   "metadata": {},
   "source": [
    "## Read/Write from the primary "
   ]
  },
  {
   "cell_type": "markdown",
   "metadata": {},
   "source": [
    "Let's try to connect to the primary and save a doc ..."
   ]
  },
  {
   "cell_type": "code",
   "execution_count": null,
   "metadata": {},
   "outputs": [],
   "source": [
    "myclient = MongoClient('localhost', 27018)\n",
    "replica_set_db = myclient['replica_set_db']\n",
    "replica_set_col = replica_set_db[\"replica_set_col\"]\n",
    "doc = { \"University\": \"Horizon\", \"course\": \"Mongo DB\" }\n",
    "adoc = replica_set_col.insert_one(doc)"
   ]
  },
  {
   "cell_type": "markdown",
   "metadata": {},
   "source": [
    "Now let’s bring down that node and see what happens when we run our query again"
   ]
  },
  {
   "cell_type": "code",
   "execution_count": null,
   "metadata": {},
   "outputs": [],
   "source": [
    "doc = { \"University\": \"Horizon\", \"course\": \"Redis\" }\n",
    "adoc = replica_set_col.insert_one(doc)"
   ]
  },
  {
   "cell_type": "markdown",
   "metadata": {},
   "source": [
    "## Read/Write from replica set "
   ]
  },
  {
   "cell_type": "markdown",
   "metadata": {},
   "source": [
    "Now let's restart the 27018 and connect to the replica set insead ... "
   ]
  },
  {
   "cell_type": "code",
   "execution_count": null,
   "metadata": {},
   "outputs": [],
   "source": [
    "myclient = MongoClient('localhost', 27019, replicaSet='rs0')\n",
    "replica_set_db = myclient['replica_set_db']\n",
    "replica_set_col = replica_set_db[\"replica_set_col\"]\n",
    "docs = replica_set_col.find()\n",
    "for doc in docs: \n",
    "    pprint(doc)"
   ]
  },
  {
   "cell_type": "markdown",
   "metadata": {},
   "source": [
    "Let's write to the replica set "
   ]
  },
  {
   "cell_type": "code",
   "execution_count": null,
   "metadata": {},
   "outputs": [],
   "source": [
    "doc = { \"University\": \"Horizon\", \"course\": \"Redis\" }\n",
    "adoc = replica_set_col.insert_one(doc)\n",
    "docs = replica_set_col.find()\n",
    "for doc in docs: \n",
    "    pprint(doc)"
   ]
  },
  {
   "cell_type": "markdown",
   "metadata": {},
   "source": [
    "let's bring the instance 27019 down and try to read/write "
   ]
  },
  {
   "cell_type": "code",
   "execution_count": null,
   "metadata": {},
   "outputs": [],
   "source": [
    "docs = replica_set_col.find()\n",
    "for doc in docs: \n",
    "    pprint(doc)"
   ]
  },
  {
   "cell_type": "markdown",
   "metadata": {},
   "source": [
    "## Read Preference "
   ]
  },
  {
   "cell_type": "markdown",
   "metadata": {},
   "source": [
    "Actually, when connected to a replica set, by default reading and writing are performed from the primary"
   ]
  },
  {
   "cell_type": "code",
   "execution_count": null,
   "metadata": {},
   "outputs": [],
   "source": [
    "replica_set_col.read_preference"
   ]
  },
  {
   "cell_type": "markdown",
   "metadata": {},
   "source": [
    "We can set read preference"
   ]
  },
  {
   "cell_type": "code",
   "execution_count": null,
   "metadata": {},
   "outputs": [],
   "source": [
    "from pymongo import ReadPreference\n",
    "myclient = MongoClient('localhost', 27019, replicaSet='rs0', read_preference=ReadPreference.SECONDARY)\n",
    "replica_set_db = myclient['replica_set_db']\n",
    "replica_set_col = replica_set_db[\"replica_set_col\"]\n",
    "replica_set_col.read_preference"
   ]
  },
  {
   "cell_type": "markdown",
   "metadata": {},
   "source": [
    "- Replica-set members can be tagged according to any criteria you choose.\n",
    "- When selecting a server for a read operation with maxStalenessSeconds, clients estimate how stale each secondary is by comparing the secondary's last write to that of the primary. The client will then direct the read operation to a secondary whose estimated lag is less than or equal to maxStalenessSeconds.\n",
    "- With hedged reads, the mongos instances can route read operations to two replica set members per each queried shard and return results from the first respondent per shard."
   ]
  },
  {
   "cell_type": "markdown",
   "metadata": {},
   "source": [
    "## Enabling hedged reads"
   ]
  },
  {
   "cell_type": "code",
   "execution_count": null,
   "metadata": {},
   "outputs": [],
   "source": [
    "from pymongo.read_preferences import Secondary\n",
    "read_preference = Secondary(tag_sets=None, max_staleness=-1, hedge={'enabled': True})\n",
    "myclient = MongoClient('localhost', 27019, replicaSet='rs0', read_preference=read_preference)\n",
    "replica_set_db = myclient['replica_set_db']\n",
    "replica_set_col = replica_set_db[\"replica_set_col\"]\n",
    "replica_set_col.read_preference "
   ]
  }
 ],
 "metadata": {
  "kernelspec": {
   "display_name": "Python 3",
   "language": "python",
   "name": "python3"
  },
  "language_info": {
   "codemirror_mode": {
    "name": "ipython",
    "version": 3
   },
   "file_extension": ".py",
   "mimetype": "text/x-python",
   "name": "python",
   "nbconvert_exporter": "python",
   "pygments_lexer": "ipython3",
   "version": "3.7.6"
  }
 },
 "nbformat": 4,
 "nbformat_minor": 4
}
